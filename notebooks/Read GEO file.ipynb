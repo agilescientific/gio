{
 "cells": [
  {
   "cell_type": "markdown",
   "metadata": {},
   "source": [
    "Add the modules in the `gio` folder to our path."
   ]
  },
  {
   "cell_type": "code",
   "execution_count": 1,
   "metadata": {},
   "outputs": [],
   "source": [
    "import sys\n",
    "sys.path.insert(0, \"../gio\")"
   ]
  },
  {
   "cell_type": "markdown",
   "metadata": {},
   "source": [
    ".geo files are an old ASCII format using in mine planning software for importing well trajectory data or well log data."
   ]
  },
  {
   "cell_type": "markdown",
   "metadata": {},
   "source": [
    "These are the useful functions for importing .geo files, imported from the `gio/geo.py` module of Python code:"
   ]
  },
  {
   "cell_type": "code",
   "execution_count": 37,
   "metadata": {},
   "outputs": [],
   "source": [
    "from geo import GeoFile, geo_to_lasfiles, reindex_las_index_inplace"
   ]
  },
  {
   "cell_type": "markdown",
   "metadata": {},
   "source": [
    "Load the example `3162.geo` file from the `gio/data` folder."
   ]
  },
  {
   "cell_type": "code",
   "execution_count": 3,
   "metadata": {},
   "outputs": [],
   "source": [
    "test_fn = \"../data/3162.geo\""
   ]
  },
  {
   "cell_type": "code",
   "execution_count": 4,
   "metadata": {},
   "outputs": [],
   "source": [
    "geo = GeoFile.read(test_fn)"
   ]
  },
  {
   "cell_type": "markdown",
   "metadata": {},
   "source": [
    "The geo file is parsed into a header section, and six frames."
   ]
  },
  {
   "cell_type": "code",
   "execution_count": 9,
   "metadata": {},
   "outputs": [
    {
     "data": {
      "text/html": [
       "<div>\n",
       "<style scoped>\n",
       "    .dataframe tbody tr th:only-of-type {\n",
       "        vertical-align: middle;\n",
       "    }\n",
       "\n",
       "    .dataframe tbody tr th {\n",
       "        vertical-align: top;\n",
       "    }\n",
       "\n",
       "    .dataframe thead th {\n",
       "        text-align: right;\n",
       "    }\n",
       "</style>\n",
       "<table border=\"1\" class=\"dataframe\">\n",
       "  <thead>\n",
       "    <tr style=\"text-align: right;\">\n",
       "      <th></th>\n",
       "      <th>header_param</th>\n",
       "      <th>header_value</th>\n",
       "      <th>header_descr</th>\n",
       "    </tr>\n",
       "  </thead>\n",
       "  <tbody>\n",
       "    <tr>\n",
       "      <th>0</th>\n",
       "      <td>HOLE</td>\n",
       "      <td>3162</td>\n",
       "      <td>Hole</td>\n",
       "    </tr>\n",
       "    <tr>\n",
       "      <th>1</th>\n",
       "      <td>COMPANY</td>\n",
       "      <td>GEOEX</td>\n",
       "      <td>Company</td>\n",
       "    </tr>\n",
       "    <tr>\n",
       "      <th>2</th>\n",
       "      <td>LOCATION</td>\n",
       "      <td>LEIGH CREEK</td>\n",
       "      <td>Location</td>\n",
       "    </tr>\n",
       "    <tr>\n",
       "      <th>3</th>\n",
       "      <td>DATE_LOGGED</td>\n",
       "      <td>24/5/78</td>\n",
       "      <td>Date_Logged</td>\n",
       "    </tr>\n",
       "    <tr>\n",
       "      <th>4</th>\n",
       "      <td>X_LOCATION</td>\n",
       "      <td>253039</td>\n",
       "      <td>X_Location</td>\n",
       "    </tr>\n",
       "    <tr>\n",
       "      <th>5</th>\n",
       "      <td>Y_LOCATION</td>\n",
       "      <td>6623783</td>\n",
       "      <td>Y_Location</td>\n",
       "    </tr>\n",
       "    <tr>\n",
       "      <th>6</th>\n",
       "      <td>ELEV_MEAS_REF</td>\n",
       "      <td>200.18</td>\n",
       "      <td>Elev._Meas._Ref.</td>\n",
       "    </tr>\n",
       "    <tr>\n",
       "      <th>7</th>\n",
       "      <td>SYMBOL</td>\n",
       "      <td>CROSS</td>\n",
       "      <td>Symbol</td>\n",
       "    </tr>\n",
       "    <tr>\n",
       "      <th>8</th>\n",
       "      <td>DATE_MODIFIED</td>\n",
       "      <td>10-May-91 14:26:17</td>\n",
       "      <td>Date_modified</td>\n",
       "    </tr>\n",
       "  </tbody>\n",
       "</table>\n",
       "</div>"
      ],
      "text/plain": [
       "    header_param        header_value      header_descr\n",
       "0           HOLE                3162              Hole\n",
       "1        COMPANY               GEOEX           Company\n",
       "2       LOCATION         LEIGH CREEK          Location\n",
       "3    DATE_LOGGED             24/5/78       Date_Logged\n",
       "4     X_LOCATION              253039        X_Location\n",
       "5     Y_LOCATION             6623783        Y_Location\n",
       "6  ELEV_MEAS_REF              200.18  Elev._Meas._Ref.\n",
       "7         SYMBOL               CROSS            Symbol\n",
       "8  DATE_MODIFIED  10-May-91 14:26:17     Date_modified"
      ]
     },
     "execution_count": 9,
     "metadata": {},
     "output_type": "execute_result"
    }
   ],
   "source": [
    "geo.header"
   ]
  },
  {
   "cell_type": "code",
   "execution_count": 10,
   "metadata": {},
   "outputs": [
    {
     "data": {
      "text/plain": [
       "6"
      ]
     },
     "execution_count": 10,
     "metadata": {},
     "output_type": "execute_result"
    }
   ],
   "source": [
    "len(geo.frames)"
   ]
  },
  {
   "cell_type": "markdown",
   "metadata": {},
   "source": [
    "Let's look at the first frame. Each frame is parsed as a `dict`:"
   ]
  },
  {
   "cell_type": "code",
   "execution_count": 17,
   "metadata": {},
   "outputs": [
    {
     "data": {
      "text/plain": [
       "{'title': 'DENSITY',\n",
       " 'comments': '    AMG ZONE: 54            EASTING: 253039.00        NORTHING: 6623783.00\\n  COLLAR EL : 200.18             DATUM HEIGHT ABOVE COLLAR EL :  280 CM\\n  CONTRACTOR: GEOEX PTY LTD  LOGGER:                  LOG DATE: 23-05-78\\n  PROBE TYPE: DENSITY      PROBE ID:   41     READING INTERVAL: 200 MS\\n                     APPARENT DEPTH:    249.0 METRE\\n\\n   --- RECORD LAYOUT DETAILS ---\\n FIELD NO    FIELD WIDTH (BYTES)      FIELD NAME      SENSOR OFFSET (CM)\\n     1              1                    FILLER\\n     2              6                     DEPTH                0 CM\\n     3              6                 SHORT DENSITY          135 CM\\n     4              6                 LONG DENSITY           125 CM\\n     5              6                   CALIPER               -2 CM\\n     6              7                    FILLER',\n",
       " 'constants':   header_param header_value header_descr\n",
       " 0          SET      DENSITY     Set Name,\n",
       " 'data': curve_name  CALIPER  LONGGAM  SHORTGAM\n",
       " DEPTH                                 \n",
       "  24911          179       25       395\n",
       "  24911          179       30       375\n",
       "  24911          179       25       375\n",
       "  24911          179       20       400\n",
       "  24911          179       20       370\n",
       " ...             ...      ...       ...\n",
       " -40             179      140       585\n",
       " -40             179      140       585\n",
       " -40             179      140       585\n",
       " -40             179      140       585\n",
       " -40             179      140       585\n",
       " \n",
       " [12725 rows x 3 columns],\n",
       " 'data_step': 0,\n",
       " 'names':   curve_name curve_unit curve_data_type\n",
       " 0      DEPTH         CM            REAL\n",
       " 1    CALIPER         CM            REAL\n",
       " 2    LONGGAM         CM            REAL\n",
       " 3   SHORTGAM         CM            REAL}"
      ]
     },
     "execution_count": 17,
     "metadata": {},
     "output_type": "execute_result"
    }
   ],
   "source": [
    "frame = geo.frames[0]\n",
    "frame"
   ]
  },
  {
   "cell_type": "code",
   "execution_count": 18,
   "metadata": {},
   "outputs": [
    {
     "name": "stdout",
     "output_type": "stream",
     "text": [
      "    AMG ZONE: 54            EASTING: 253039.00        NORTHING: 6623783.00\n",
      "  COLLAR EL : 200.18             DATUM HEIGHT ABOVE COLLAR EL :  280 CM\n",
      "  CONTRACTOR: GEOEX PTY LTD  LOGGER:                  LOG DATE: 23-05-78\n",
      "  PROBE TYPE: DENSITY      PROBE ID:   41     READING INTERVAL: 200 MS\n",
      "                     APPARENT DEPTH:    249.0 METRE\n",
      "\n",
      "   --- RECORD LAYOUT DETAILS ---\n",
      " FIELD NO    FIELD WIDTH (BYTES)      FIELD NAME      SENSOR OFFSET (CM)\n",
      "     1              1                    FILLER\n",
      "     2              6                     DEPTH                0 CM\n",
      "     3              6                 SHORT DENSITY          135 CM\n",
      "     4              6                 LONG DENSITY           125 CM\n",
      "     5              6                   CALIPER               -2 CM\n",
      "     6              7                    FILLER\n"
     ]
    }
   ],
   "source": [
    "print(frame[\"comments\"])"
   ]
  },
  {
   "cell_type": "code",
   "execution_count": 19,
   "metadata": {},
   "outputs": [
    {
     "data": {
      "text/html": [
       "<div>\n",
       "<style scoped>\n",
       "    .dataframe tbody tr th:only-of-type {\n",
       "        vertical-align: middle;\n",
       "    }\n",
       "\n",
       "    .dataframe tbody tr th {\n",
       "        vertical-align: top;\n",
       "    }\n",
       "\n",
       "    .dataframe thead th {\n",
       "        text-align: right;\n",
       "    }\n",
       "</style>\n",
       "<table border=\"1\" class=\"dataframe\">\n",
       "  <thead>\n",
       "    <tr style=\"text-align: right;\">\n",
       "      <th></th>\n",
       "      <th>curve_name</th>\n",
       "      <th>curve_unit</th>\n",
       "      <th>curve_data_type</th>\n",
       "    </tr>\n",
       "  </thead>\n",
       "  <tbody>\n",
       "    <tr>\n",
       "      <th>0</th>\n",
       "      <td>DEPTH</td>\n",
       "      <td>CM</td>\n",
       "      <td>REAL</td>\n",
       "    </tr>\n",
       "    <tr>\n",
       "      <th>1</th>\n",
       "      <td>CALIPER</td>\n",
       "      <td>CM</td>\n",
       "      <td>REAL</td>\n",
       "    </tr>\n",
       "    <tr>\n",
       "      <th>2</th>\n",
       "      <td>LONGGAM</td>\n",
       "      <td>CM</td>\n",
       "      <td>REAL</td>\n",
       "    </tr>\n",
       "    <tr>\n",
       "      <th>3</th>\n",
       "      <td>SHORTGAM</td>\n",
       "      <td>CM</td>\n",
       "      <td>REAL</td>\n",
       "    </tr>\n",
       "  </tbody>\n",
       "</table>\n",
       "</div>"
      ],
      "text/plain": [
       "  curve_name curve_unit curve_data_type\n",
       "0      DEPTH         CM            REAL\n",
       "1    CALIPER         CM            REAL\n",
       "2    LONGGAM         CM            REAL\n",
       "3   SHORTGAM         CM            REAL"
      ]
     },
     "execution_count": 19,
     "metadata": {},
     "output_type": "execute_result"
    }
   ],
   "source": [
    "frame[\"names\"]"
   ]
  },
  {
   "cell_type": "code",
   "execution_count": 20,
   "metadata": {},
   "outputs": [
    {
     "data": {
      "text/html": [
       "<div>\n",
       "<style scoped>\n",
       "    .dataframe tbody tr th:only-of-type {\n",
       "        vertical-align: middle;\n",
       "    }\n",
       "\n",
       "    .dataframe tbody tr th {\n",
       "        vertical-align: top;\n",
       "    }\n",
       "\n",
       "    .dataframe thead th {\n",
       "        text-align: right;\n",
       "    }\n",
       "</style>\n",
       "<table border=\"1\" class=\"dataframe\">\n",
       "  <thead>\n",
       "    <tr style=\"text-align: right;\">\n",
       "      <th>curve_name</th>\n",
       "      <th>CALIPER</th>\n",
       "      <th>LONGGAM</th>\n",
       "      <th>SHORTGAM</th>\n",
       "    </tr>\n",
       "    <tr>\n",
       "      <th>DEPTH</th>\n",
       "      <th></th>\n",
       "      <th></th>\n",
       "      <th></th>\n",
       "    </tr>\n",
       "  </thead>\n",
       "  <tbody>\n",
       "    <tr>\n",
       "      <th>24911</th>\n",
       "      <td>179</td>\n",
       "      <td>25</td>\n",
       "      <td>395</td>\n",
       "    </tr>\n",
       "    <tr>\n",
       "      <th>24911</th>\n",
       "      <td>179</td>\n",
       "      <td>30</td>\n",
       "      <td>375</td>\n",
       "    </tr>\n",
       "    <tr>\n",
       "      <th>24911</th>\n",
       "      <td>179</td>\n",
       "      <td>25</td>\n",
       "      <td>375</td>\n",
       "    </tr>\n",
       "    <tr>\n",
       "      <th>24911</th>\n",
       "      <td>179</td>\n",
       "      <td>20</td>\n",
       "      <td>400</td>\n",
       "    </tr>\n",
       "    <tr>\n",
       "      <th>24911</th>\n",
       "      <td>179</td>\n",
       "      <td>20</td>\n",
       "      <td>370</td>\n",
       "    </tr>\n",
       "    <tr>\n",
       "      <th>...</th>\n",
       "      <td>...</td>\n",
       "      <td>...</td>\n",
       "      <td>...</td>\n",
       "    </tr>\n",
       "    <tr>\n",
       "      <th>-40</th>\n",
       "      <td>179</td>\n",
       "      <td>140</td>\n",
       "      <td>585</td>\n",
       "    </tr>\n",
       "    <tr>\n",
       "      <th>-40</th>\n",
       "      <td>179</td>\n",
       "      <td>140</td>\n",
       "      <td>585</td>\n",
       "    </tr>\n",
       "    <tr>\n",
       "      <th>-40</th>\n",
       "      <td>179</td>\n",
       "      <td>140</td>\n",
       "      <td>585</td>\n",
       "    </tr>\n",
       "    <tr>\n",
       "      <th>-40</th>\n",
       "      <td>179</td>\n",
       "      <td>140</td>\n",
       "      <td>585</td>\n",
       "    </tr>\n",
       "    <tr>\n",
       "      <th>-40</th>\n",
       "      <td>179</td>\n",
       "      <td>140</td>\n",
       "      <td>585</td>\n",
       "    </tr>\n",
       "  </tbody>\n",
       "</table>\n",
       "<p>12725 rows × 3 columns</p>\n",
       "</div>"
      ],
      "text/plain": [
       "curve_name  CALIPER  LONGGAM  SHORTGAM\n",
       "DEPTH                                 \n",
       " 24911          179       25       395\n",
       " 24911          179       30       375\n",
       " 24911          179       25       375\n",
       " 24911          179       20       400\n",
       " 24911          179       20       370\n",
       "...             ...      ...       ...\n",
       "-40             179      140       585\n",
       "-40             179      140       585\n",
       "-40             179      140       585\n",
       "-40             179      140       585\n",
       "-40             179      140       585\n",
       "\n",
       "[12725 rows x 3 columns]"
      ]
     },
     "execution_count": 20,
     "metadata": {},
     "output_type": "execute_result"
    }
   ],
   "source": [
    "frame[\"data\"]"
   ]
  },
  {
   "cell_type": "markdown",
   "metadata": {},
   "source": [
    "A more useful format is LAS files. You can easily convert a geo file into LAS files (one for each frame):"
   ]
  },
  {
   "cell_type": "code",
   "execution_count": 25,
   "metadata": {},
   "outputs": [
    {
     "data": {
      "text/plain": [
       "{'DENSITY': <lasio.las.LASFile at 0x16d71d79880>,\n",
       " 'NEUTRON': <lasio.las.LASFile at 0x16d7224baf0>,\n",
       " 'DENSITY.RUN2': <lasio.las.LASFile at 0x16d715ed940>,\n",
       " 'NEUTRON.RUN2': <lasio.las.LASFile at 0x16d7224b250>,\n",
       " 'DENSITY.RUN3': <lasio.las.LASFile at 0x16d71d79e20>,\n",
       " 'NEUTRON.RUN3': <lasio.las.LASFile at 0x16d71d79c10>}"
      ]
     },
     "execution_count": 25,
     "metadata": {},
     "output_type": "execute_result"
    }
   ],
   "source": [
    "las_objs = geo.to_lasfiles()\n",
    "las_objs"
   ]
  },
  {
   "cell_type": "code",
   "execution_count": 26,
   "metadata": {},
   "outputs": [],
   "source": [
    "las = las_objs['DENSITY']"
   ]
  },
  {
   "cell_type": "code",
   "execution_count": 33,
   "metadata": {},
   "outputs": [
    {
     "name": "stdout",
     "output_type": "stream",
     "text": [
      "Mnemonic  Unit  Value  Description  \n",
      "--------  ----  -----  -----------  \n",
      "DEPTH     CM                        \n",
      "CALIPER   CM                        \n",
      "LONGGAM   CM                        \n",
      "SHORTGAM  CM                        \n"
     ]
    }
   ],
   "source": [
    "print(las.curves)"
   ]
  },
  {
   "cell_type": "code",
   "execution_count": 35,
   "metadata": {},
   "outputs": [
    {
     "name": "stdout",
     "output_type": "stream",
     "text": [
      "        CALIPER  LONGGAM  SHORTGAM\n",
      "DEPTH                             \n",
      " 24911      179       25       395\n",
      " 24911      179       30       375\n",
      " 24911      179       25       375\n",
      " 24911      179       20       400\n",
      " 24911      179       20       370\n",
      "...         ...      ...       ...\n",
      "-40         179      140       585\n",
      "-40         179      140       585\n",
      "-40         179      140       585\n",
      "-40         179      140       585\n",
      "-40         179      140       585\n",
      "\n",
      "[12725 rows x 3 columns]\n"
     ]
    }
   ],
   "source": [
    "print(las.df())"
   ]
  },
  {
   "cell_type": "markdown",
   "metadata": {},
   "source": [
    "Notice also that the geo file does not have a regular interval in the depth index. There is a function to fix this:"
   ]
  },
  {
   "cell_type": "code",
   "execution_count": 40,
   "metadata": {},
   "outputs": [],
   "source": [
    "reindex_las_index_inplace(las)"
   ]
  },
  {
   "cell_type": "code",
   "execution_count": 42,
   "metadata": {},
   "outputs": [
    {
     "name": "stdout",
     "output_type": "stream",
     "text": [
      "            CALIPER     LONGGAM    SHORTGAM\n",
      "DEPTH                                      \n",
      "-40.000     179.000  140.000000  585.000000\n",
      "-38.000     179.000  125.000000  515.000000\n",
      "-36.000     180.000  130.000000  515.000000\n",
      "-34.000     180.000  105.000000  540.000000\n",
      "-31.999     179.001   90.010000  510.025000\n",
      "...             ...         ...         ...\n",
      " 24907.999  179.000   19.995007  419.965031\n",
      " 24910.000  179.000   20.000000  410.000000\n",
      " 24912.000  179.000   30.000000  405.000000\n",
      " 24914.000      NaN         NaN         NaN\n",
      " 24916.000      NaN         NaN         NaN\n",
      "\n",
      "[12478 rows x 3 columns]\n"
     ]
    }
   ],
   "source": [
    "print(las.df())"
   ]
  },
  {
   "cell_type": "markdown",
   "metadata": {},
   "source": [
    "A convenience function for writing the LAS files to disc is also provided:"
   ]
  },
  {
   "cell_type": "code",
   "execution_count": 50,
   "metadata": {},
   "outputs": [],
   "source": [
    "geo_to_lasfiles(\"../data/3162.geo\", output_folder=\".\", reindex_las=True, convert_to_m=True)"
   ]
  },
  {
   "cell_type": "code",
   "execution_count": 51,
   "metadata": {},
   "outputs": [
    {
     "data": {
      "text/plain": [
       "['3162.geo.DENSITY.las',\n",
       " '3162.geo.DENSITY.RUN2.las',\n",
       " '3162.geo.DENSITY.RUN3.las',\n",
       " '3162.geo.NEUTRON.las',\n",
       " '3162.geo.NEUTRON.RUN2.las',\n",
       " '3162.geo.NEUTRON.RUN3.las']"
      ]
     },
     "execution_count": 51,
     "metadata": {},
     "output_type": "execute_result"
    }
   ],
   "source": [
    "from glob import glob\n",
    "\n",
    "glob(\"*.las\")"
   ]
  },
  {
   "cell_type": "markdown",
   "metadata": {},
   "source": [
    "Clean up after myself:"
   ]
  },
  {
   "cell_type": "code",
   "execution_count": 52,
   "metadata": {},
   "outputs": [],
   "source": [
    "from os import remove\n",
    "\n",
    "for fn in glob(\"3162.geo.*.las\"):\n",
    "    remove(fn)"
   ]
  },
  {
   "cell_type": "code",
   "execution_count": null,
   "metadata": {},
   "outputs": [],
   "source": []
  }
 ],
 "metadata": {
  "kernelspec": {
   "display_name": "Python 3",
   "language": "python",
   "name": "python3"
  },
  "language_info": {
   "codemirror_mode": {
    "name": "ipython",
    "version": 3
   },
   "file_extension": ".py",
   "mimetype": "text/x-python",
   "name": "python",
   "nbconvert_exporter": "python",
   "pygments_lexer": "ipython3",
   "version": "3.8.5"
  }
 },
 "nbformat": 4,
 "nbformat_minor": 4
}
